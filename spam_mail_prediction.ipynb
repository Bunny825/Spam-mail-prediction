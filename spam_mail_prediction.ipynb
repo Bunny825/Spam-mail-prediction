{
  "nbformat": 4,
  "nbformat_minor": 0,
  "metadata": {
    "colab": {
      "provenance": [],
      "mount_file_id": "1ab0-Ei8k2Cmfd1KPDiOKfqssceY6AYZi",
      "authorship_tag": "ABX9TyMUvvPqrglKQG3qlMy9mVtT",
      "include_colab_link": true
    },
    "kernelspec": {
      "name": "python3",
      "display_name": "Python 3"
    },
    "language_info": {
      "name": "python"
    }
  },
  "cells": [
    {
      "cell_type": "markdown",
      "metadata": {
        "id": "view-in-github",
        "colab_type": "text"
      },
      "source": [
        "<a href=\"https://colab.research.google.com/github/Bunny825/Spam-mail-prediction/blob/main/spam_mail_prediction.ipynb\" target=\"_parent\"><img src=\"https://colab.research.google.com/assets/colab-badge.svg\" alt=\"Open In Colab\"/></a>"
      ]
    },
    {
      "cell_type": "markdown",
      "source": [
        "Importing the dependencies"
      ],
      "metadata": {
        "id": "WNcRmqPL8x6A"
      }
    },
    {
      "cell_type": "code",
      "execution_count": 54,
      "metadata": {
        "id": "dBkTjx5qvzyi"
      },
      "outputs": [],
      "source": [
        "import pandas as pd\n",
        "import numpy as np\n",
        "from sklearn.model_selection import train_test_split\n",
        "from sklearn.feature_extraction.text import TfidfVectorizer\n",
        "from sklearn.metrics import accuracy_score\n",
        "from sklearn.preprocessing import LabelEncoder\n",
        "from sklearn.linear_model import LogisticRegression"
      ]
    },
    {
      "cell_type": "markdown",
      "source": [
        "Data Extraction and preprocessing"
      ],
      "metadata": {
        "id": "nNgT518783tY"
      }
    },
    {
      "cell_type": "code",
      "source": [
        "mail_data=pd.read_csv(\"/mail_data.csv\")\n",
        "mail_data.shape"
      ],
      "metadata": {
        "colab": {
          "base_uri": "https://localhost:8080/"
        },
        "id": "8G1bD0xXw2oU",
        "outputId": "eeb3ec9f-807c-4ba6-b878-659cb614c1ab"
      },
      "execution_count": 2,
      "outputs": [
        {
          "output_type": "execute_result",
          "data": {
            "text/plain": [
              "(5572, 2)"
            ]
          },
          "metadata": {},
          "execution_count": 2
        }
      ]
    },
    {
      "cell_type": "code",
      "source": [
        "mail_data.head()"
      ],
      "metadata": {
        "colab": {
          "base_uri": "https://localhost:8080/",
          "height": 206
        },
        "id": "zQwNiDRwxs4n",
        "outputId": "afcc0836-216f-4b70-9362-486810d2a7b7"
      },
      "execution_count": 3,
      "outputs": [
        {
          "output_type": "execute_result",
          "data": {
            "text/plain": [
              "  Category                                            Message\n",
              "0      ham  Go until jurong point, crazy.. Available only ...\n",
              "1      ham                      Ok lar... Joking wif u oni...\n",
              "2     spam  Free entry in 2 a wkly comp to win FA Cup fina...\n",
              "3      ham  U dun say so early hor... U c already then say...\n",
              "4      ham  Nah I don't think he goes to usf, he lives aro..."
            ],
            "text/html": [
              "\n",
              "  <div id=\"df-e60e315d-84ed-44bd-ab5f-7aa9df9db921\" class=\"colab-df-container\">\n",
              "    <div>\n",
              "<style scoped>\n",
              "    .dataframe tbody tr th:only-of-type {\n",
              "        vertical-align: middle;\n",
              "    }\n",
              "\n",
              "    .dataframe tbody tr th {\n",
              "        vertical-align: top;\n",
              "    }\n",
              "\n",
              "    .dataframe thead th {\n",
              "        text-align: right;\n",
              "    }\n",
              "</style>\n",
              "<table border=\"1\" class=\"dataframe\">\n",
              "  <thead>\n",
              "    <tr style=\"text-align: right;\">\n",
              "      <th></th>\n",
              "      <th>Category</th>\n",
              "      <th>Message</th>\n",
              "    </tr>\n",
              "  </thead>\n",
              "  <tbody>\n",
              "    <tr>\n",
              "      <th>0</th>\n",
              "      <td>ham</td>\n",
              "      <td>Go until jurong point, crazy.. Available only ...</td>\n",
              "    </tr>\n",
              "    <tr>\n",
              "      <th>1</th>\n",
              "      <td>ham</td>\n",
              "      <td>Ok lar... Joking wif u oni...</td>\n",
              "    </tr>\n",
              "    <tr>\n",
              "      <th>2</th>\n",
              "      <td>spam</td>\n",
              "      <td>Free entry in 2 a wkly comp to win FA Cup fina...</td>\n",
              "    </tr>\n",
              "    <tr>\n",
              "      <th>3</th>\n",
              "      <td>ham</td>\n",
              "      <td>U dun say so early hor... U c already then say...</td>\n",
              "    </tr>\n",
              "    <tr>\n",
              "      <th>4</th>\n",
              "      <td>ham</td>\n",
              "      <td>Nah I don't think he goes to usf, he lives aro...</td>\n",
              "    </tr>\n",
              "  </tbody>\n",
              "</table>\n",
              "</div>\n",
              "    <div class=\"colab-df-buttons\">\n",
              "\n",
              "  <div class=\"colab-df-container\">\n",
              "    <button class=\"colab-df-convert\" onclick=\"convertToInteractive('df-e60e315d-84ed-44bd-ab5f-7aa9df9db921')\"\n",
              "            title=\"Convert this dataframe to an interactive table.\"\n",
              "            style=\"display:none;\">\n",
              "\n",
              "  <svg xmlns=\"http://www.w3.org/2000/svg\" height=\"24px\" viewBox=\"0 -960 960 960\">\n",
              "    <path d=\"M120-120v-720h720v720H120Zm60-500h600v-160H180v160Zm220 220h160v-160H400v160Zm0 220h160v-160H400v160ZM180-400h160v-160H180v160Zm440 0h160v-160H620v160ZM180-180h160v-160H180v160Zm440 0h160v-160H620v160Z\"/>\n",
              "  </svg>\n",
              "    </button>\n",
              "\n",
              "  <style>\n",
              "    .colab-df-container {\n",
              "      display:flex;\n",
              "      gap: 12px;\n",
              "    }\n",
              "\n",
              "    .colab-df-convert {\n",
              "      background-color: #E8F0FE;\n",
              "      border: none;\n",
              "      border-radius: 50%;\n",
              "      cursor: pointer;\n",
              "      display: none;\n",
              "      fill: #1967D2;\n",
              "      height: 32px;\n",
              "      padding: 0 0 0 0;\n",
              "      width: 32px;\n",
              "    }\n",
              "\n",
              "    .colab-df-convert:hover {\n",
              "      background-color: #E2EBFA;\n",
              "      box-shadow: 0px 1px 2px rgba(60, 64, 67, 0.3), 0px 1px 3px 1px rgba(60, 64, 67, 0.15);\n",
              "      fill: #174EA6;\n",
              "    }\n",
              "\n",
              "    .colab-df-buttons div {\n",
              "      margin-bottom: 4px;\n",
              "    }\n",
              "\n",
              "    [theme=dark] .colab-df-convert {\n",
              "      background-color: #3B4455;\n",
              "      fill: #D2E3FC;\n",
              "    }\n",
              "\n",
              "    [theme=dark] .colab-df-convert:hover {\n",
              "      background-color: #434B5C;\n",
              "      box-shadow: 0px 1px 3px 1px rgba(0, 0, 0, 0.15);\n",
              "      filter: drop-shadow(0px 1px 2px rgba(0, 0, 0, 0.3));\n",
              "      fill: #FFFFFF;\n",
              "    }\n",
              "  </style>\n",
              "\n",
              "    <script>\n",
              "      const buttonEl =\n",
              "        document.querySelector('#df-e60e315d-84ed-44bd-ab5f-7aa9df9db921 button.colab-df-convert');\n",
              "      buttonEl.style.display =\n",
              "        google.colab.kernel.accessAllowed ? 'block' : 'none';\n",
              "\n",
              "      async function convertToInteractive(key) {\n",
              "        const element = document.querySelector('#df-e60e315d-84ed-44bd-ab5f-7aa9df9db921');\n",
              "        const dataTable =\n",
              "          await google.colab.kernel.invokeFunction('convertToInteractive',\n",
              "                                                    [key], {});\n",
              "        if (!dataTable) return;\n",
              "\n",
              "        const docLinkHtml = 'Like what you see? Visit the ' +\n",
              "          '<a target=\"_blank\" href=https://colab.research.google.com/notebooks/data_table.ipynb>data table notebook</a>'\n",
              "          + ' to learn more about interactive tables.';\n",
              "        element.innerHTML = '';\n",
              "        dataTable['output_type'] = 'display_data';\n",
              "        await google.colab.output.renderOutput(dataTable, element);\n",
              "        const docLink = document.createElement('div');\n",
              "        docLink.innerHTML = docLinkHtml;\n",
              "        element.appendChild(docLink);\n",
              "      }\n",
              "    </script>\n",
              "  </div>\n",
              "\n",
              "\n",
              "<div id=\"df-701841c9-a941-4436-83e1-49cef56b15b0\">\n",
              "  <button class=\"colab-df-quickchart\" onclick=\"quickchart('df-701841c9-a941-4436-83e1-49cef56b15b0')\"\n",
              "            title=\"Suggest charts\"\n",
              "            style=\"display:none;\">\n",
              "\n",
              "<svg xmlns=\"http://www.w3.org/2000/svg\" height=\"24px\"viewBox=\"0 0 24 24\"\n",
              "     width=\"24px\">\n",
              "    <g>\n",
              "        <path d=\"M19 3H5c-1.1 0-2 .9-2 2v14c0 1.1.9 2 2 2h14c1.1 0 2-.9 2-2V5c0-1.1-.9-2-2-2zM9 17H7v-7h2v7zm4 0h-2V7h2v10zm4 0h-2v-4h2v4z\"/>\n",
              "    </g>\n",
              "</svg>\n",
              "  </button>\n",
              "\n",
              "<style>\n",
              "  .colab-df-quickchart {\n",
              "      --bg-color: #E8F0FE;\n",
              "      --fill-color: #1967D2;\n",
              "      --hover-bg-color: #E2EBFA;\n",
              "      --hover-fill-color: #174EA6;\n",
              "      --disabled-fill-color: #AAA;\n",
              "      --disabled-bg-color: #DDD;\n",
              "  }\n",
              "\n",
              "  [theme=dark] .colab-df-quickchart {\n",
              "      --bg-color: #3B4455;\n",
              "      --fill-color: #D2E3FC;\n",
              "      --hover-bg-color: #434B5C;\n",
              "      --hover-fill-color: #FFFFFF;\n",
              "      --disabled-bg-color: #3B4455;\n",
              "      --disabled-fill-color: #666;\n",
              "  }\n",
              "\n",
              "  .colab-df-quickchart {\n",
              "    background-color: var(--bg-color);\n",
              "    border: none;\n",
              "    border-radius: 50%;\n",
              "    cursor: pointer;\n",
              "    display: none;\n",
              "    fill: var(--fill-color);\n",
              "    height: 32px;\n",
              "    padding: 0;\n",
              "    width: 32px;\n",
              "  }\n",
              "\n",
              "  .colab-df-quickchart:hover {\n",
              "    background-color: var(--hover-bg-color);\n",
              "    box-shadow: 0 1px 2px rgba(60, 64, 67, 0.3), 0 1px 3px 1px rgba(60, 64, 67, 0.15);\n",
              "    fill: var(--button-hover-fill-color);\n",
              "  }\n",
              "\n",
              "  .colab-df-quickchart-complete:disabled,\n",
              "  .colab-df-quickchart-complete:disabled:hover {\n",
              "    background-color: var(--disabled-bg-color);\n",
              "    fill: var(--disabled-fill-color);\n",
              "    box-shadow: none;\n",
              "  }\n",
              "\n",
              "  .colab-df-spinner {\n",
              "    border: 2px solid var(--fill-color);\n",
              "    border-color: transparent;\n",
              "    border-bottom-color: var(--fill-color);\n",
              "    animation:\n",
              "      spin 1s steps(1) infinite;\n",
              "  }\n",
              "\n",
              "  @keyframes spin {\n",
              "    0% {\n",
              "      border-color: transparent;\n",
              "      border-bottom-color: var(--fill-color);\n",
              "      border-left-color: var(--fill-color);\n",
              "    }\n",
              "    20% {\n",
              "      border-color: transparent;\n",
              "      border-left-color: var(--fill-color);\n",
              "      border-top-color: var(--fill-color);\n",
              "    }\n",
              "    30% {\n",
              "      border-color: transparent;\n",
              "      border-left-color: var(--fill-color);\n",
              "      border-top-color: var(--fill-color);\n",
              "      border-right-color: var(--fill-color);\n",
              "    }\n",
              "    40% {\n",
              "      border-color: transparent;\n",
              "      border-right-color: var(--fill-color);\n",
              "      border-top-color: var(--fill-color);\n",
              "    }\n",
              "    60% {\n",
              "      border-color: transparent;\n",
              "      border-right-color: var(--fill-color);\n",
              "    }\n",
              "    80% {\n",
              "      border-color: transparent;\n",
              "      border-right-color: var(--fill-color);\n",
              "      border-bottom-color: var(--fill-color);\n",
              "    }\n",
              "    90% {\n",
              "      border-color: transparent;\n",
              "      border-bottom-color: var(--fill-color);\n",
              "    }\n",
              "  }\n",
              "</style>\n",
              "\n",
              "  <script>\n",
              "    async function quickchart(key) {\n",
              "      const quickchartButtonEl =\n",
              "        document.querySelector('#' + key + ' button');\n",
              "      quickchartButtonEl.disabled = true;  // To prevent multiple clicks.\n",
              "      quickchartButtonEl.classList.add('colab-df-spinner');\n",
              "      try {\n",
              "        const charts = await google.colab.kernel.invokeFunction(\n",
              "            'suggestCharts', [key], {});\n",
              "      } catch (error) {\n",
              "        console.error('Error during call to suggestCharts:', error);\n",
              "      }\n",
              "      quickchartButtonEl.classList.remove('colab-df-spinner');\n",
              "      quickchartButtonEl.classList.add('colab-df-quickchart-complete');\n",
              "    }\n",
              "    (() => {\n",
              "      let quickchartButtonEl =\n",
              "        document.querySelector('#df-701841c9-a941-4436-83e1-49cef56b15b0 button');\n",
              "      quickchartButtonEl.style.display =\n",
              "        google.colab.kernel.accessAllowed ? 'block' : 'none';\n",
              "    })();\n",
              "  </script>\n",
              "</div>\n",
              "\n",
              "    </div>\n",
              "  </div>\n"
            ],
            "application/vnd.google.colaboratory.intrinsic+json": {
              "type": "dataframe",
              "variable_name": "mail_data",
              "summary": "{\n  \"name\": \"mail_data\",\n  \"rows\": 5572,\n  \"fields\": [\n    {\n      \"column\": \"Category\",\n      \"properties\": {\n        \"dtype\": \"category\",\n        \"num_unique_values\": 2,\n        \"samples\": [\n          \"spam\",\n          \"ham\"\n        ],\n        \"semantic_type\": \"\",\n        \"description\": \"\"\n      }\n    },\n    {\n      \"column\": \"Message\",\n      \"properties\": {\n        \"dtype\": \"string\",\n        \"num_unique_values\": 5157,\n        \"samples\": [\n          \"Also sir, i sent you an email about how to log into the usc payment portal. I.ll send you another message that should explain how things are back home. Have a great weekend.\",\n          \"Are you free now?can i call now?\"\n        ],\n        \"semantic_type\": \"\",\n        \"description\": \"\"\n      }\n    }\n  ]\n}"
            }
          },
          "metadata": {},
          "execution_count": 3
        }
      ]
    },
    {
      "cell_type": "code",
      "source": [
        "mail_data[\"Category\"].value_counts()"
      ],
      "metadata": {
        "colab": {
          "base_uri": "https://localhost:8080/",
          "height": 178
        },
        "id": "eck8KmPwxwyM",
        "outputId": "decb9f5b-03f3-4e08-f9a8-d1bcfbd9e462"
      },
      "execution_count": 4,
      "outputs": [
        {
          "output_type": "execute_result",
          "data": {
            "text/plain": [
              "Category\n",
              "ham     4825\n",
              "spam     747\n",
              "Name: count, dtype: int64"
            ],
            "text/html": [
              "<table border=\"1\" class=\"dataframe\">\n",
              "  <thead>\n",
              "    <tr style=\"text-align: right;\">\n",
              "      <th></th>\n",
              "      <th>count</th>\n",
              "    </tr>\n",
              "    <tr>\n",
              "      <th>Category</th>\n",
              "      <th></th>\n",
              "    </tr>\n",
              "  </thead>\n",
              "  <tbody>\n",
              "    <tr>\n",
              "      <th>ham</th>\n",
              "      <td>4825</td>\n",
              "    </tr>\n",
              "    <tr>\n",
              "      <th>spam</th>\n",
              "      <td>747</td>\n",
              "    </tr>\n",
              "  </tbody>\n",
              "</table><br><label><b>dtype:</b> int64</label>"
            ]
          },
          "metadata": {},
          "execution_count": 4
        }
      ]
    },
    {
      "cell_type": "code",
      "source": [
        "#that's an unbalanced datasat so let's balance it now\n",
        "#Divide the samples of spam and ham separetely\n",
        "spam=mail_data[mail_data.Category==\"spam\"]\n",
        "ham=mail_data[mail_data.Category==\"ham\"]\n",
        "print(spam.shape)\n",
        "print(ham.shape)"
      ],
      "metadata": {
        "colab": {
          "base_uri": "https://localhost:8080/"
        },
        "id": "H1wsZyaCyDYu",
        "outputId": "56303401-4513-4701-d7c4-d1ec5f3c6f1e"
      },
      "execution_count": 42,
      "outputs": [
        {
          "output_type": "stream",
          "name": "stdout",
          "text": [
            "(747, 2)\n",
            "(4825, 2)\n"
          ]
        }
      ]
    },
    {
      "cell_type": "code",
      "source": [
        "#sample the ham data restricting to the number of sapmples approx equal to spam samples\n",
        "ham=ham.sample(n=750)\n",
        "print(ham.shape)\n",
        "print(spam.shape)\n",
        "#they look more balanced now so we may get better predictions and training advantage"
      ],
      "metadata": {
        "colab": {
          "base_uri": "https://localhost:8080/"
        },
        "id": "DvLeHpE9yucX",
        "outputId": "23900486-4706-49de-eee2-3c54f4169658"
      },
      "execution_count": 43,
      "outputs": [
        {
          "output_type": "stream",
          "name": "stdout",
          "text": [
            "(750, 2)\n",
            "(747, 2)\n"
          ]
        }
      ]
    },
    {
      "cell_type": "code",
      "source": [
        "#so now we have two different dataframes one is ham and another is spam with their name signifying values in it\n",
        "#concat both the dataframes into a single dataframe using pandas dataframe\n",
        "new_mail_data=pd.concat([spam,ham],axis=0)\n",
        "print(new_mail_data.shape)"
      ],
      "metadata": {
        "colab": {
          "base_uri": "https://localhost:8080/"
        },
        "id": "pK_1NSxnzBpz",
        "outputId": "73c0cc9b-65c7-4fab-ca91-3249ea20694b"
      },
      "execution_count": 12,
      "outputs": [
        {
          "output_type": "stream",
          "name": "stdout",
          "text": [
            "(1497, 2)\n"
          ]
        }
      ]
    },
    {
      "cell_type": "code",
      "source": [
        "print(new_mail_data.head())"
      ],
      "metadata": {
        "colab": {
          "base_uri": "https://localhost:8080/"
        },
        "id": "qNGot3c30MUu",
        "outputId": "8c28d946-4763-4b53-977a-23829cd9647d"
      },
      "execution_count": 13,
      "outputs": [
        {
          "output_type": "stream",
          "name": "stdout",
          "text": [
            "   Category                                            Message\n",
            "2      spam  Free entry in 2 a wkly comp to win FA Cup fina...\n",
            "5      spam  FreeMsg Hey there darling it's been 3 week's n...\n",
            "8      spam  WINNER!! As a valued network customer you have...\n",
            "9      spam  Had your mobile 11 months or more? U R entitle...\n",
            "11     spam  SIX chances to win CASH! From 100 to 20,000 po...\n"
          ]
        }
      ]
    },
    {
      "cell_type": "code",
      "source": [
        "#changing the textual data of Category column to binary labels\n",
        "encoder=LabelEncoder()\n",
        "new_mail_data[\"Category\"]=encoder.fit_transform(new_mail_data[\"Category\"])"
      ],
      "metadata": {
        "id": "vDPUA1-T0RxE"
      },
      "execution_count": 44,
      "outputs": []
    },
    {
      "cell_type": "code",
      "source": [
        "new_mail_data[\"Category\"].value_counts()\n",
        "#spam-->1\n",
        "#ham-->0"
      ],
      "metadata": {
        "colab": {
          "base_uri": "https://localhost:8080/",
          "height": 178
        },
        "id": "3-8QsNxv0t5a",
        "outputId": "ca76edda-4215-4801-c3e1-27f141db721e"
      },
      "execution_count": 45,
      "outputs": [
        {
          "output_type": "execute_result",
          "data": {
            "text/plain": [
              "Category\n",
              "0    750\n",
              "1    747\n",
              "Name: count, dtype: int64"
            ],
            "text/html": [
              "<table border=\"1\" class=\"dataframe\">\n",
              "  <thead>\n",
              "    <tr style=\"text-align: right;\">\n",
              "      <th></th>\n",
              "      <th>count</th>\n",
              "    </tr>\n",
              "    <tr>\n",
              "      <th>Category</th>\n",
              "      <th></th>\n",
              "    </tr>\n",
              "  </thead>\n",
              "  <tbody>\n",
              "    <tr>\n",
              "      <th>0</th>\n",
              "      <td>750</td>\n",
              "    </tr>\n",
              "    <tr>\n",
              "      <th>1</th>\n",
              "      <td>747</td>\n",
              "    </tr>\n",
              "  </tbody>\n",
              "</table><br><label><b>dtype:</b> int64</label>"
            ]
          },
          "metadata": {},
          "execution_count": 45
        }
      ]
    },
    {
      "cell_type": "code",
      "source": [
        "#converting all the textual data in the body of mail to numeric values based on the Tfidf values of those\n",
        "#The score is based on the number of times the word appears in the line as well as in the document.\n",
        "#min_df says that a word's score should be atleast the given value if lesser than that then just ignore it.\n",
        "#it signfies that the word has repeated very less number of times\n",
        "#stop_words:Including this attribute says to avoid the english stopwords in the data such as I,you,we,me,has,had etc..\n",
        "#lowercase:this says to reduce all the text to lowercase so \"Rama\" and \"RAMA\" will have same idf score\n",
        "\n",
        "x=new_mail_data[\"Message\"]\n",
        "y=new_mail_data[\"Category\"]\n",
        "extraction=TfidfVectorizer(min_df=1,stop_words=\"english\",lowercase=True)\n",
        "x=extraction.fit_transform(x)\n",
        "print(x)\n",
        "print(y)"
      ],
      "metadata": {
        "colab": {
          "base_uri": "https://localhost:8080/"
        },
        "id": "QBCL0eiA04x3",
        "outputId": "10bc57fa-d60c-40bb-c5c5-e5e97ba511f9"
      },
      "execution_count": 46,
      "outputs": [
        {
          "output_type": "stream",
          "name": "stdout",
          "text": [
            "  (0, 76)\t0.24242874768506065\n",
            "  (0, 879)\t0.1639398359931388\n",
            "  (0, 3217)\t0.16287280356015804\n",
            "  (0, 4006)\t0.10941783560586357\n",
            "  (0, 3682)\t0.19583719831454716\n",
            "  (0, 3186)\t0.19583719831454716\n",
            "  (0, 3247)\t0.1639398359931388\n",
            "  (0, 697)\t0.22526056325257834\n",
            "  (0, 3850)\t0.11901517526945986\n",
            "  (0, 377)\t0.2327601276159283\n",
            "  (0, 386)\t0.24242874768506065\n",
            "  (0, 3917)\t0.22526056325257834\n",
            "  (0, 1792)\t0.1841310636023145\n",
            "  (0, 1438)\t0.2139521692606413\n",
            "  (0, 1738)\t0.4848574953701213\n",
            "  (0, 4236)\t0.140106310657879\n",
            "  (0, 1340)\t0.19876153745961425\n",
            "  (0, 4260)\t0.1883376339511972\n",
            "  (0, 1686)\t0.350931525548715\n",
            "  (0, 1860)\t0.10557843871858724\n",
            "  (1, 3224)\t0.32858142780878835\n",
            "  (1, 545)\t0.1969182613310201\n",
            "  (1, 3458)\t0.176252663134934\n",
            "  (1, 1265)\t0.34705130798386635\n",
            "  (1, 4317)\t0.2523279018562539\n",
            "  :\t:\n",
            "  (1492, 2305)\t0.22737334868509687\n",
            "  (1492, 3465)\t0.3542862085123131\n",
            "  (1493, 1500)\t0.3620775906714282\n",
            "  (1493, 4154)\t0.3620775906714282\n",
            "  (1493, 4274)\t0.29619449330825387\n",
            "  (1493, 2888)\t0.3185312319801384\n",
            "  (1493, 2487)\t0.24017937555300473\n",
            "  (1493, 2015)\t0.29059690060102317\n",
            "  (1493, 2410)\t0.257655351919436\n",
            "  (1493, 3412)\t0.25264813461696406\n",
            "  (1493, 1360)\t0.3098664712954321\n",
            "  (1493, 3845)\t0.2855896832985512\n",
            "  (1493, 1535)\t0.23838578122502707\n",
            "  (1493, 2428)\t0.20457219690417594\n",
            "  (1494, 1129)\t0.5219728710175503\n",
            "  (1494, 1024)\t0.5219728710175503\n",
            "  (1494, 3130)\t0.4591962218846874\n",
            "  (1494, 1247)\t0.494193761241702\n",
            "  (1495, 3839)\t0.5101880422140022\n",
            "  (1495, 756)\t0.4637715153082888\n",
            "  (1495, 4186)\t0.42629690384614194\n",
            "  (1495, 4183)\t0.3902030607490186\n",
            "  (1495, 2725)\t0.43661958765473197\n",
            "  (1496, 3640)\t0.7261657838295439\n",
            "  (1496, 3469)\t0.6875196392796529\n",
            "2       1\n",
            "5       1\n",
            "8       1\n",
            "9       1\n",
            "11      1\n",
            "       ..\n",
            "3762    0\n",
            "3203    0\n",
            "1580    0\n",
            "96      0\n",
            "20      0\n",
            "Name: Category, Length: 1497, dtype: int64\n"
          ]
        }
      ]
    },
    {
      "cell_type": "code",
      "source": [
        "#spliting the data for training and testing purpose\n",
        "\n",
        "x_train,x_test,y_train,y_test=train_test_split(x,y,random_state=3,test_size=0.2,stratify=y)\n",
        "print(x.shape,x_train.shape,x_test.shape)"
      ],
      "metadata": {
        "colab": {
          "base_uri": "https://localhost:8080/"
        },
        "id": "tArQkuIN1pI_",
        "outputId": "6e1b3b01-f326-450d-abd3-313c21c7c566"
      },
      "execution_count": 52,
      "outputs": [
        {
          "output_type": "stream",
          "name": "stdout",
          "text": [
            "(1497, 4362) (1197, 4362) (300, 4362)\n"
          ]
        }
      ]
    },
    {
      "cell_type": "code",
      "source": [
        "#we are using the Logistic regression as it is a binary classification problem\n",
        "\n",
        "model=LogisticRegression()\n",
        "model.fit(x_train,y_train)\n",
        "\n",
        "train_predict=model.predict(x_train)\n",
        "train_accuracy=accuracy_score(train_predict,y_train)\n",
        "print(train_accuracy)\n",
        "\n",
        "test_predict=model.predict(x_test)\n",
        "test_accuracy=accuracy_score(test_predict,y_test)\n",
        "print(test_accuracy)\n",
        "\n",
        "#we got the best accuracy for both training and testing data so no case of underfit\n"
      ],
      "metadata": {
        "colab": {
          "base_uri": "https://localhost:8080/"
        },
        "id": "YtH_CMc62cex",
        "outputId": "e9576f34-3ceb-49ec-8131-4c2d1098a90c"
      },
      "execution_count": 53,
      "outputs": [
        {
          "output_type": "stream",
          "name": "stdout",
          "text": [
            "0.9891395154553049\n",
            "0.95\n"
          ]
        }
      ]
    },
    {
      "cell_type": "code",
      "source": [
        "#prediction function\n",
        "\n",
        "def mail_predict(input):\n",
        "  input=extraction.transform(input)\n",
        "  output=model.predict(input)\n",
        "  if output==0:\n",
        "    print(\"Ham Mail\")\n",
        "  else:\n",
        "    print(\"Spam Mail\")"
      ],
      "metadata": {
        "id": "Jf3-_5fN2rI6"
      },
      "execution_count": 40,
      "outputs": []
    },
    {
      "cell_type": "code",
      "source": [
        "inp1=[\"WINNER!! As a valued network customer you have been selected to receivea £900 prize reward! To claim call 09061701461. Claim code KL341. Valid 12 hours only.\"]\n",
        "inp2=[\"I've been searching for the right words to thank you for this breather. I promise i wont take your help for granted and will fulfil my promise. You have been wonderful and a blessing at all times.\"]\n",
        "mail_predict(inp1)\n",
        "mail_predict(inp2)"
      ],
      "metadata": {
        "colab": {
          "base_uri": "https://localhost:8080/"
        },
        "id": "Z1ByNqg95dGJ",
        "outputId": "05d15b43-92b8-4fc2-dfa6-316ccf5d10fc"
      },
      "execution_count": 41,
      "outputs": [
        {
          "output_type": "stream",
          "name": "stdout",
          "text": [
            "Spam Mail\n",
            "Ham Mail\n"
          ]
        }
      ]
    },
    {
      "cell_type": "code",
      "source": [],
      "metadata": {
        "id": "IYVJN1aV6d18"
      },
      "execution_count": null,
      "outputs": []
    }
  ]
}